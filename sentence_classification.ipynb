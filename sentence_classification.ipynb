{
 "cells": [
  {
   "cell_type": "code",
   "execution_count": 1,
   "metadata": {},
   "outputs": [
    {
     "name": "stderr",
     "output_type": "stream",
     "text": [
      "/opt/conda/lib/python3.6/site-packages/torchvision/io/_video_opt.py:17: UserWarning: video reader based on ffmpeg c++ ops not available\n",
      "  warnings.warn(\"video reader based on ffmpeg c++ ops not available\")\n"
     ]
    }
   ],
   "source": [
    "import nemo\n",
    "from nemo.utils.lr_policies import get_lr_policy\n",
    "import nemo_nlp\n",
    "from nemo_nlp.utils.callbacks.sentence_classification import \\\n",
    "    eval_iter_callback, eval_epochs_done_callback\n",
    "import preproc_data_layer\n",
    "from pytorch_transformers import BertTokenizer\n",
    "import torch.nn.functional as f\n",
    "\n",
    "import math\n",
    "import numpy as np\n",
    "import pandas as pd\n",
    "pd.options.display.max_colwidth = -1\n",
    "\n",
    "import json\n",
    "\n",
    "from preproc_data_layer import BertSentenceClassificationDataset, PreprocBertSentenceClassificationDataLayer\n",
    "import matplotlib.pyplot as plt\n",
    "from sklearn.manifold import TSNE"
   ]
  },
  {
   "cell_type": "code",
   "execution_count": 2,
   "metadata": {},
   "outputs": [],
   "source": [
    "%matplotlib inline"
   ]
  },
  {
   "cell_type": "markdown",
   "metadata": {},
   "source": [
    "## Data Explore\n",
    "\n",
    "The SST-2 dataset https://nlp.stanford.edu/sentiment/index.html is a standard benchmark for sentence classification and is part of the GLUE Benchmark: https://gluebenchmark.com/tasks."
   ]
  },
  {
   "cell_type": "code",
   "execution_count": 3,
   "metadata": {},
   "outputs": [
    {
     "name": "stdout",
     "output_type": "stream",
     "text": [
      "data directory already exists\n",
      "SST-2.zip already exists\n"
     ]
    }
   ],
   "source": [
    "!sh get_data.sh"
   ]
  },
  {
   "cell_type": "code",
   "execution_count": 4,
   "metadata": {},
   "outputs": [],
   "source": [
    "data_dir = 'data/SST-2'\n",
    "df = pd.read_csv(data_dir + '/train.tsv', sep='\\t')\n",
    "test_df = pd.read_csv(data_dir + '/test.tsv', sep='\\t')"
   ]
  },
  {
   "cell_type": "code",
   "execution_count": 5,
   "metadata": {},
   "outputs": [
    {
     "data": {
      "text/html": [
       "<div>\n",
       "<style scoped>\n",
       "    .dataframe tbody tr th:only-of-type {\n",
       "        vertical-align: middle;\n",
       "    }\n",
       "\n",
       "    .dataframe tbody tr th {\n",
       "        vertical-align: top;\n",
       "    }\n",
       "\n",
       "    .dataframe thead th {\n",
       "        text-align: right;\n",
       "    }\n",
       "</style>\n",
       "<table border=\"1\" class=\"dataframe\">\n",
       "  <thead>\n",
       "    <tr style=\"text-align: right;\">\n",
       "      <th></th>\n",
       "      <th>sentence</th>\n",
       "      <th>label</th>\n",
       "    </tr>\n",
       "  </thead>\n",
       "  <tbody>\n",
       "    <tr>\n",
       "      <th>0</th>\n",
       "      <td>hide new secretions from the parental units</td>\n",
       "      <td>0</td>\n",
       "    </tr>\n",
       "    <tr>\n",
       "      <th>1</th>\n",
       "      <td>contains no wit , only labored gags</td>\n",
       "      <td>0</td>\n",
       "    </tr>\n",
       "    <tr>\n",
       "      <th>2</th>\n",
       "      <td>that loves its characters and communicates something rather beautiful about human nature</td>\n",
       "      <td>1</td>\n",
       "    </tr>\n",
       "    <tr>\n",
       "      <th>3</th>\n",
       "      <td>remains utterly satisfied to remain the same throughout</td>\n",
       "      <td>0</td>\n",
       "    </tr>\n",
       "    <tr>\n",
       "      <th>4</th>\n",
       "      <td>on the worst revenge-of-the-nerds clichés the filmmakers could dredge up</td>\n",
       "      <td>0</td>\n",
       "    </tr>\n",
       "  </tbody>\n",
       "</table>\n",
       "</div>"
      ],
      "text/plain": [
       "                                                                                    sentence  \\\n",
       "0  hide new secretions from the parental units                                                 \n",
       "1  contains no wit , only labored gags                                                         \n",
       "2  that loves its characters and communicates something rather beautiful about human nature    \n",
       "3  remains utterly satisfied to remain the same throughout                                     \n",
       "4  on the worst revenge-of-the-nerds clichés the filmmakers could dredge up                    \n",
       "\n",
       "   label  \n",
       "0  0      \n",
       "1  0      \n",
       "2  1      \n",
       "3  0      \n",
       "4  0      "
      ]
     },
     "execution_count": 5,
     "metadata": {},
     "output_type": "execute_result"
    }
   ],
   "source": [
    "df.head()"
   ]
  },
  {
   "cell_type": "code",
   "execution_count": 6,
   "metadata": {},
   "outputs": [
    {
     "data": {
      "text/html": [
       "<div>\n",
       "<style scoped>\n",
       "    .dataframe tbody tr th:only-of-type {\n",
       "        vertical-align: middle;\n",
       "    }\n",
       "\n",
       "    .dataframe tbody tr th {\n",
       "        vertical-align: top;\n",
       "    }\n",
       "\n",
       "    .dataframe thead th {\n",
       "        text-align: right;\n",
       "    }\n",
       "</style>\n",
       "<table border=\"1\" class=\"dataframe\">\n",
       "  <thead>\n",
       "    <tr style=\"text-align: right;\">\n",
       "      <th></th>\n",
       "      <th>index</th>\n",
       "      <th>sentence</th>\n",
       "    </tr>\n",
       "  </thead>\n",
       "  <tbody>\n",
       "    <tr>\n",
       "      <th>0</th>\n",
       "      <td>0</td>\n",
       "      <td>uneasy mishmash of styles and genres .</td>\n",
       "    </tr>\n",
       "    <tr>\n",
       "      <th>1</th>\n",
       "      <td>1</td>\n",
       "      <td>this film 's relationship to actual tension is the same as what christmas-tree flocking in a spray can is to actual snow : a poor -- if durable -- imitation .</td>\n",
       "    </tr>\n",
       "    <tr>\n",
       "      <th>2</th>\n",
       "      <td>2</td>\n",
       "      <td>by the end of no such thing the audience , like beatrice , has a watchful affection for the monster .</td>\n",
       "    </tr>\n",
       "    <tr>\n",
       "      <th>3</th>\n",
       "      <td>3</td>\n",
       "      <td>director rob marshall went out gunning to make a great one .</td>\n",
       "    </tr>\n",
       "    <tr>\n",
       "      <th>4</th>\n",
       "      <td>4</td>\n",
       "      <td>lathan and diggs have considerable personal charm , and their screen rapport makes the old story seem new .</td>\n",
       "    </tr>\n",
       "    <tr>\n",
       "      <th>...</th>\n",
       "      <td>...</td>\n",
       "      <td>...</td>\n",
       "    </tr>\n",
       "    <tr>\n",
       "      <th>1816</th>\n",
       "      <td>1816</td>\n",
       "      <td>it risks seeming slow and pretentious , because it thinks the gamble is worth the promise .</td>\n",
       "    </tr>\n",
       "    <tr>\n",
       "      <th>1817</th>\n",
       "      <td>1817</td>\n",
       "      <td>take care of my cat offers a refreshingly different slice of asian cinema .</td>\n",
       "    </tr>\n",
       "    <tr>\n",
       "      <th>1818</th>\n",
       "      <td>1818</td>\n",
       "      <td>davis has filled out his cast with appealing fresh faces .</td>\n",
       "    </tr>\n",
       "    <tr>\n",
       "      <th>1819</th>\n",
       "      <td>1819</td>\n",
       "      <td>it represents better-than-average movie-making that does n't demand a dumb , distracted audience .</td>\n",
       "    </tr>\n",
       "    <tr>\n",
       "      <th>1820</th>\n",
       "      <td>1820</td>\n",
       "      <td>dazzling and sugar-sweet , a blast of shallow magnificence that only sex , scandal , and a chorus line of dangerous damsels can deliver .</td>\n",
       "    </tr>\n",
       "  </tbody>\n",
       "</table>\n",
       "<p>1821 rows × 2 columns</p>\n",
       "</div>"
      ],
      "text/plain": [
       "      index  \\\n",
       "0     0       \n",
       "1     1       \n",
       "2     2       \n",
       "3     3       \n",
       "4     4       \n",
       "...  ..       \n",
       "1816  1816    \n",
       "1817  1817    \n",
       "1818  1818    \n",
       "1819  1819    \n",
       "1820  1820    \n",
       "\n",
       "                                                                                                                                                            sentence  \n",
       "0     uneasy mishmash of styles and genres .                                                                                                                          \n",
       "1     this film 's relationship to actual tension is the same as what christmas-tree flocking in a spray can is to actual snow : a poor -- if durable -- imitation .  \n",
       "2     by the end of no such thing the audience , like beatrice , has a watchful affection for the monster .                                                           \n",
       "3     director rob marshall went out gunning to make a great one .                                                                                                    \n",
       "4     lathan and diggs have considerable personal charm , and their screen rapport makes the old story seem new .                                                     \n",
       "...                                                                                                           ...                                                     \n",
       "1816  it risks seeming slow and pretentious , because it thinks the gamble is worth the promise .                                                                     \n",
       "1817  take care of my cat offers a refreshingly different slice of asian cinema .                                                                                     \n",
       "1818  davis has filled out his cast with appealing fresh faces .                                                                                                      \n",
       "1819  it represents better-than-average movie-making that does n't demand a dumb , distracted audience .                                                              \n",
       "1820  dazzling and sugar-sweet , a blast of shallow magnificence that only sex , scandal , and a chorus line of dangerous damsels can deliver .                       \n",
       "\n",
       "[1821 rows x 2 columns]"
      ]
     },
     "execution_count": 6,
     "metadata": {},
     "output_type": "execute_result"
    }
   ],
   "source": [
    "test_df"
   ]
  },
  {
   "cell_type": "markdown",
   "metadata": {},
   "source": [
    "The dataset comes with a train file (labeled) and a test file (not labeled).  We will use part of the train file for model validation"
   ]
  },
  {
   "cell_type": "code",
   "execution_count": 7,
   "metadata": {},
   "outputs": [],
   "source": [
    "# Split train to train and val and save to disk\n",
    "np.random.seed(123)\n",
    "train_mask = np.random.rand((len(df))) < .8\n",
    "train_df = df[train_mask]\n",
    "val_df = df[~train_mask]"
   ]
  },
  {
   "cell_type": "markdown",
   "metadata": {},
   "source": [
    "In order to take advantage of NeMo's pre-built sentence classification data layer, the data must formatted as \"sentence\\tlabel\" (sentence tab label)."
   ]
  },
  {
   "cell_type": "code",
   "execution_count": 8,
   "metadata": {},
   "outputs": [],
   "source": [
    "# We will add a label column with all 0's (but they will not be used for anything).\n",
    "test_df['label'] = 0"
   ]
  },
  {
   "cell_type": "code",
   "execution_count": 9,
   "metadata": {},
   "outputs": [],
   "source": [
    "test_df = test_df[['sentence', 'label']]"
   ]
  },
  {
   "cell_type": "code",
   "execution_count": 10,
   "metadata": {},
   "outputs": [
    {
     "data": {
      "text/html": [
       "<div>\n",
       "<style scoped>\n",
       "    .dataframe tbody tr th:only-of-type {\n",
       "        vertical-align: middle;\n",
       "    }\n",
       "\n",
       "    .dataframe tbody tr th {\n",
       "        vertical-align: top;\n",
       "    }\n",
       "\n",
       "    .dataframe thead th {\n",
       "        text-align: right;\n",
       "    }\n",
       "</style>\n",
       "<table border=\"1\" class=\"dataframe\">\n",
       "  <thead>\n",
       "    <tr style=\"text-align: right;\">\n",
       "      <th></th>\n",
       "      <th>sentence</th>\n",
       "      <th>label</th>\n",
       "    </tr>\n",
       "  </thead>\n",
       "  <tbody>\n",
       "    <tr>\n",
       "      <th>0</th>\n",
       "      <td>uneasy mishmash of styles and genres .</td>\n",
       "      <td>0</td>\n",
       "    </tr>\n",
       "    <tr>\n",
       "      <th>1</th>\n",
       "      <td>this film 's relationship to actual tension is the same as what christmas-tree flocking in a spray can is to actual snow : a poor -- if durable -- imitation .</td>\n",
       "      <td>0</td>\n",
       "    </tr>\n",
       "    <tr>\n",
       "      <th>2</th>\n",
       "      <td>by the end of no such thing the audience , like beatrice , has a watchful affection for the monster .</td>\n",
       "      <td>0</td>\n",
       "    </tr>\n",
       "    <tr>\n",
       "      <th>3</th>\n",
       "      <td>director rob marshall went out gunning to make a great one .</td>\n",
       "      <td>0</td>\n",
       "    </tr>\n",
       "    <tr>\n",
       "      <th>4</th>\n",
       "      <td>lathan and diggs have considerable personal charm , and their screen rapport makes the old story seem new .</td>\n",
       "      <td>0</td>\n",
       "    </tr>\n",
       "  </tbody>\n",
       "</table>\n",
       "</div>"
      ],
      "text/plain": [
       "                                                                                                                                                         sentence  \\\n",
       "0  uneasy mishmash of styles and genres .                                                                                                                           \n",
       "1  this film 's relationship to actual tension is the same as what christmas-tree flocking in a spray can is to actual snow : a poor -- if durable -- imitation .   \n",
       "2  by the end of no such thing the audience , like beatrice , has a watchful affection for the monster .                                                            \n",
       "3  director rob marshall went out gunning to make a great one .                                                                                                     \n",
       "4  lathan and diggs have considerable personal charm , and their screen rapport makes the old story seem new .                                                      \n",
       "\n",
       "   label  \n",
       "0  0      \n",
       "1  0      \n",
       "2  0      \n",
       "3  0      \n",
       "4  0      "
      ]
     },
     "execution_count": 10,
     "metadata": {},
     "output_type": "execute_result"
    }
   ],
   "source": [
    "test_df.head()"
   ]
  },
  {
   "cell_type": "code",
   "execution_count": 11,
   "metadata": {},
   "outputs": [],
   "source": [
    "# Save new train, val, and test to disk\n",
    "train_df.to_csv(data_dir + '/my_train.tsv', sep='\\t', index=False)\n",
    "val_df.to_csv(data_dir + '/my_val.tsv', sep='\\t', index=False)\n",
    "test_df.to_csv(data_dir + '/my_test.tsv', sep='\\t', index=False)"
   ]
  },
  {
   "cell_type": "markdown",
   "metadata": {},
   "source": [
    "# Data Preprocessing\n",
    "\n",
    "In order to use BERT or any other Deep NLP based model, we must first tokenize the data. Our tokenizer will map each word to an integer."
   ]
  },
  {
   "cell_type": "code",
   "execution_count": 12,
   "metadata": {},
   "outputs": [],
   "source": [
    "# Each pretrained BERT model comes with a Tokenizer\n",
    "pretrained_bert_model = 'bert-base-uncased'\n",
    "#pretrained_bert_model = 'bert-large-uncased'\n",
    "tokenizer = BertTokenizer.from_pretrained(pretrained_bert_model)"
   ]
  },
  {
   "cell_type": "code",
   "execution_count": 13,
   "metadata": {},
   "outputs": [],
   "source": [
    "max_seq_length = 64 # we will pad 0's to shorter sentences and truncate longer\n",
    "sample_dataset = BertSentenceClassificationDataset(\n",
    "data_dir + '/my_train.tsv',\n",
    "max_seq_length,\n",
    "tokenizer,\n",
    "num_samples=100,\n",
    "shuffle=False)"
   ]
  },
  {
   "cell_type": "code",
   "execution_count": 14,
   "metadata": {},
   "outputs": [],
   "source": [
    "def print_tokenization(tokenizer, tokens):\n",
    "    pad_counter = 0\n",
    "    for token in tokens:\n",
    "        if token == 0:\n",
    "            pad_counter += 1\n",
    "        if pad_counter > 4:\n",
    "            break\n",
    "        vocab_str = list(tokenizer.vocab.keys())[list(tokenizer.vocab.values()).index(token)]\n",
    "        print(f'{vocab_str:15s} | {token}')"
   ]
  },
  {
   "cell_type": "code",
   "execution_count": 15,
   "metadata": {},
   "outputs": [
    {
     "name": "stdout",
     "output_type": "stream",
     "text": [
      "[CLS]           | 101\n",
      "easily          | 4089\n",
      "the             | 1996\n",
      "most            | 2087\n",
      "thoughtful      | 16465\n",
      "fictional       | 7214\n",
      "examination     | 7749\n",
      "[SEP]           | 102\n",
      "[PAD]           | 0\n",
      "[PAD]           | 0\n",
      "[PAD]           | 0\n",
      "[PAD]           | 0\n"
     ]
    }
   ],
   "source": [
    "sample_idx = np.random.randint(0, len(sample_dataset))\n",
    "tokens = sample_dataset[sample_idx][0]\n",
    "print_tokenization(tokenizer, tokens)"
   ]
  },
  {
   "cell_type": "markdown",
   "metadata": {},
   "source": [
    "We can gain a lot of efficiency by saving the tokenized data to disk. For future model runs we then don't need to tokenize every time."
   ]
  },
  {
   "cell_type": "code",
   "execution_count": 16,
   "metadata": {},
   "outputs": [
    {
     "name": "stdout",
     "output_type": "stream",
     "text": [
      "/opt/conda/lib/python3.6/site-packages/torchvision/io/_video_opt.py:17: UserWarning: video reader based on ffmpeg c++ ops not available\n",
      "  warnings.warn(\"video reader based on ffmpeg c++ ops not available\")\n"
     ]
    }
   ],
   "source": [
    "!python preproc_data.py \\\n",
    "--input_file $f'{data_dir}/my_train.tsv' \\\n",
    "--output_dir $f'{data_dir}/preproc' \\\n",
    "--dataset_name 'train-sst-2' \\\n",
    "--max_seq_length $max_seq_length \\\n",
    "--pretrained_bert_model $pretrained_bert_model"
   ]
  },
  {
   "cell_type": "code",
   "execution_count": 17,
   "metadata": {},
   "outputs": [
    {
     "name": "stdout",
     "output_type": "stream",
     "text": [
      "/opt/conda/lib/python3.6/site-packages/torchvision/io/_video_opt.py:17: UserWarning: video reader based on ffmpeg c++ ops not available\n",
      "  warnings.warn(\"video reader based on ffmpeg c++ ops not available\")\n"
     ]
    }
   ],
   "source": [
    "!python preproc_data.py \\\n",
    "--input_file $f'{data_dir}/my_test.tsv' \\\n",
    "--output_dir $f'{data_dir}/preproc' \\\n",
    "--dataset_name \"test-sst-2\" \\\n",
    "--max_seq_length $max_seq_length \\\n",
    "--pretrained_bert_model $pretrained_bert_model"
   ]
  },
  {
   "cell_type": "code",
   "execution_count": 18,
   "metadata": {},
   "outputs": [
    {
     "name": "stdout",
     "output_type": "stream",
     "text": [
      "/opt/conda/lib/python3.6/site-packages/torchvision/io/_video_opt.py:17: UserWarning: video reader based on ffmpeg c++ ops not available\n",
      "  warnings.warn(\"video reader based on ffmpeg c++ ops not available\")\n"
     ]
    }
   ],
   "source": [
    "!python preproc_data.py \\\n",
    "--input_file $f'{data_dir}/my_val.tsv' \\\n",
    "--output_dir $f'{data_dir}/preproc' \\\n",
    "--dataset_name \"val-sst-2\" \\\n",
    "--max_seq_length $max_seq_length \\\n",
    "--pretrained_bert_model $pretrained_bert_model"
   ]
  },
  {
   "cell_type": "markdown",
   "metadata": {},
   "source": [
    "## Neural Modules\n",
    "\n",
    "In NeMo, everything is a Neural Module. Neural modules abstract data and neural network architectures. Where a deep learning framework like PyTorch or Tensorflow is used to combine neural network layers to create a neural network, NeMo is used to combine data and neural networks to create AI applications.\n",
    "\n",
    "The Neural Module Factory will then manage the neural modules, taking care to flow data through the neural modules, and is also responsible for training (including mixed precision and distributed), logging, and inference."
   ]
  },
  {
   "cell_type": "code",
   "execution_count": 19,
   "metadata": {},
   "outputs": [],
   "source": [
    "# instantiate the neural module factory\n",
    "log_dir = 'logs_' + pretrained_bert_model\n",
    "checkpoint_dir = 'checkpoints_' + pretrained_bert_model\n",
    "tensorboard_dir = 'tensorboard_' + pretrained_bert_model\n",
    "nf = nemo.core.NeuralModuleFactory(log_dir=log_dir,\n",
    "                                   checkpoint_dir=checkpoint_dir,\n",
    "                                   tensorboard_dir=tensorboard_dir,\n",
    "                                   create_tb_writer=True,\n",
    "                                   add_time_to_log_dir=False,\n",
    "                                   optimization_level='O1')"
   ]
  },
  {
   "cell_type": "markdown",
   "metadata": {},
   "source": [
    "Pre-trained models will be automatically downloaded and cached."
   ]
  },
  {
   "cell_type": "code",
   "execution_count": 20,
   "metadata": {},
   "outputs": [
    {
     "name": "stderr",
     "output_type": "stream",
     "text": [
      "2020-01-17 05:45:38,485 - INFO - loading configuration file https://s3.amazonaws.com/models.huggingface.co/bert/bert-base-uncased-config.json from cache at /root/.cache/torch/pytorch_transformers/4dad0251492946e18ac39290fcfe91b89d370fee250efe9521476438fe8ca185.bf3b9ea126d8c0001ee8a1e8b92229871d06d36d8808208cc2449280da87785c\n",
      "2020-01-17 05:45:38,487 - INFO - Model config {\n",
      "  \"attention_probs_dropout_prob\": 0.1,\n",
      "  \"finetuning_task\": null,\n",
      "  \"hidden_act\": \"gelu\",\n",
      "  \"hidden_dropout_prob\": 0.1,\n",
      "  \"hidden_size\": 768,\n",
      "  \"initializer_range\": 0.02,\n",
      "  \"intermediate_size\": 3072,\n",
      "  \"layer_norm_eps\": 1e-12,\n",
      "  \"max_position_embeddings\": 512,\n",
      "  \"num_attention_heads\": 12,\n",
      "  \"num_hidden_layers\": 12,\n",
      "  \"num_labels\": 2,\n",
      "  \"output_attentions\": false,\n",
      "  \"output_hidden_states\": false,\n",
      "  \"torchscript\": false,\n",
      "  \"type_vocab_size\": 2,\n",
      "  \"vocab_size\": 30522\n",
      "}\n",
      "\n",
      "2020-01-17 05:45:39,029 - INFO - loading weights file https://s3.amazonaws.com/models.huggingface.co/bert/bert-base-uncased-pytorch_model.bin from cache at /root/.cache/torch/pytorch_transformers/aa1ef1aede4482d0dbcd4d52baad8ae300e60902e88fcb0bebdec09afd232066.36ca03ab34a1a5d5fa7bc3d03d55c4fa650fed07220e2eeebc06ce58d0e9a157\n"
     ]
    }
   ],
   "source": [
    "# Pre-trained BERT\n",
    "bert = nemo_nlp.BERT(pretrained_model_name=pretrained_bert_model)"
   ]
  },
  {
   "cell_type": "code",
   "execution_count": 21,
   "metadata": {},
   "outputs": [],
   "source": [
    "# same bert model config for later use\n",
    "bert_config_dict = bert.config.to_dict()\n",
    "\n",
    "bert_model_config_path = pretrained_bert_model + '_config.json'\n",
    "with open(bert_model_config_path, 'w+') as json_file:\n",
    "    json.dump(bert_config_dict, json_file)"
   ]
  },
  {
   "cell_type": "markdown",
   "metadata": {},
   "source": [
    "Note here that the BERT models we are working with are massive. This gives our models a large capacity for learning that is needed to understand the nuance and complexity of natural language."
   ]
  },
  {
   "cell_type": "code",
   "execution_count": 22,
   "metadata": {},
   "outputs": [
    {
     "name": "stdout",
     "output_type": "stream",
     "text": [
      "bert-base-uncased has 109482240 weights\n"
     ]
    }
   ],
   "source": [
    "print(f'{pretrained_bert_model} has {bert.num_weights} weights')"
   ]
  },
  {
   "cell_type": "markdown",
   "metadata": {},
   "source": [
    "Here we define and instantiate the feed forward network that takes as input our BERT embeddings. This network will be used to output the sentence classifications."
   ]
  },
  {
   "cell_type": "code",
   "execution_count": 23,
   "metadata": {},
   "outputs": [],
   "source": [
    "# mlp classifier\n",
    "bert_hidden_size = bert.local_parameters['hidden_size']\n",
    "\n",
    "mlp = nemo_nlp.SequenceClassifier(hidden_size=bert_hidden_size, \n",
    "                                  num_classes=2,\n",
    "                                  num_layers=2,\n",
    "                                  log_softmax=False,\n",
    "                                  dropout=0.1)\n",
    "\n",
    "loss = nemo.backends.pytorch.common.CrossEntropyLoss()"
   ]
  },
  {
   "cell_type": "code",
   "execution_count": 24,
   "metadata": {},
   "outputs": [
    {
     "name": "stdout",
     "output_type": "stream",
     "text": [
      "MLP has 592130 weights\n"
     ]
    }
   ],
   "source": [
    "# Compared to the BERT model, the MLP is tiny.\n",
    "print(f'MLP has {mlp.num_weights} weights')"
   ]
  },
  {
   "cell_type": "markdown",
   "metadata": {},
   "source": [
    "# Pipelines\n",
    "\n",
    "Pipelines are used to define how data will flow the different neural networks. In this case, our data will flow through the BERT network and then the MLP network.\n",
    "\n",
    "We also have different pipelines for training, validation, and inference data.  \n",
    "\n",
    "For training data, we want it to be used for optimization so it must be shuffled and we also need to compute the loss.\n",
    "\n",
    "For validation data, we won't use it for optimization but we want to know the loss.\n",
    "\n",
    "And for inference data, we only want the final predictions coming from the model."
   ]
  },
  {
   "cell_type": "markdown",
   "metadata": {},
   "source": [
    "## Data Layers"
   ]
  },
  {
   "cell_type": "code",
   "execution_count": 25,
   "metadata": {},
   "outputs": [],
   "source": [
    "use_preproc = True\n",
    "\n",
    "if pretrained_bert_model == 'bert-base-uncased':\n",
    "    batch_size = 256\n",
    "if pretrained_bert_model == 'bert-large-uncased':\n",
    "    batch_size = 64\n",
    "\n",
    "if use_preproc:\n",
    "    train_data = preproc_data_layer.PreprocBertSentenceClassificationDataLayer(\n",
    "        input_file=f'{data_dir}/preproc/train-sst-2_{pretrained_bert_model}_{max_seq_length}.hdf5',\n",
    "        shuffle=True,\n",
    "        num_samples=-1, # lower for dev, -1 for all dataset\n",
    "        batch_size=batch_size\n",
    "    )\n",
    "    val_data = preproc_data_layer.PreprocBertSentenceClassificationDataLayer(\n",
    "        input_file=f'{data_dir}/preproc/val-sst-2_{pretrained_bert_model}_{max_seq_length}.hdf5',\n",
    "        shuffle=False,\n",
    "        num_samples=-1, # lower for dev, -1 for all dataset\n",
    "        batch_size=batch_size\n",
    "    )\n",
    "else:\n",
    "    train_data = preproc_data_layer.BertSentenceClassificationDataLayer(\n",
    "        input_file=data_dir + '/my_train.tsv',\n",
    "        tokenizer=tokenizer,\n",
    "        max_seq_length=max_seq_length,\n",
    "        shuffle=True,\n",
    "        num_samples=-1, # lower for dev, -1 for all dataset\n",
    "        batch_size=batch_size\n",
    "    )\n",
    "    val_data = preproc_data_layer.BertSentenceClassificationDataLayer(\n",
    "        input_file=data_dir + '/my_val.tsv',\n",
    "        tokenizer=tokenizer,\n",
    "        max_seq_length=max_seq_length,\n",
    "        shuffle=False,\n",
    "        num_samples=-1, # lower for dev, -1 for all dataset\n",
    "        batch_size=batch_size\n",
    "    )"
   ]
  },
  {
   "cell_type": "code",
   "execution_count": 26,
   "metadata": {},
   "outputs": [],
   "source": [
    "train_input, train_token_types, train_attn_mask, train_labels = train_data()\n",
    "val_input, val_token_types, val_attn_mask, val_labels = val_data()"
   ]
  },
  {
   "cell_type": "markdown",
   "metadata": {},
   "source": [
    "## BERT Embeddings"
   ]
  },
  {
   "cell_type": "code",
   "execution_count": 27,
   "metadata": {},
   "outputs": [],
   "source": [
    "train_embeddings = bert(input_ids=train_input,\n",
    "                        token_type_ids=train_token_types,\n",
    "                        attention_mask=train_attn_mask)\n",
    "val_embeddings = bert(input_ids=val_input,\n",
    "                        token_type_ids=val_token_types,\n",
    "                        attention_mask=val_attn_mask)"
   ]
  },
  {
   "cell_type": "markdown",
   "metadata": {},
   "source": [
    "## Inspect BERT Embeddings\n",
    "\n",
    "If we want to inspect the data as it flows through our neural factory we can use the .infer method.  This method will give us the tensors without performing any optimization."
   ]
  },
  {
   "cell_type": "code",
   "execution_count": 28,
   "metadata": {},
   "outputs": [
    {
     "name": "stdout",
     "output_type": "stream",
     "text": [
      "Selected optimization level O1:  Insert automatic casts around Pytorch functions and Tensor methods.\n",
      "\n",
      "Defaults for this optimization level are:\n",
      "enabled                : True\n",
      "opt_level              : O1\n",
      "cast_model_type        : None\n",
      "patch_torch_functions  : True\n",
      "keep_batchnorm_fp32    : None\n",
      "master_weights         : None\n",
      "loss_scale             : dynamic\n",
      "Processing user overrides (additional kwargs that are not None)...\n",
      "After processing overrides, optimization options are:\n",
      "enabled                : True\n",
      "opt_level              : O1\n",
      "cast_model_type        : None\n",
      "patch_torch_functions  : True\n",
      "keep_batchnorm_fp32    : None\n",
      "master_weights         : None\n",
      "loss_scale             : dynamic\n"
     ]
    },
    {
     "name": "stderr",
     "output_type": "stream",
     "text": [
      "2020-01-17 05:45:45,904 - INFO - Evaluating batch 0 out of 53\n",
      "2020-01-17 05:45:45,912 - INFO - Evaluating batch 5 out of 53\n",
      "2020-01-17 05:45:46,111 - INFO - Evaluating batch 10 out of 53\n",
      "2020-01-17 05:45:46,116 - INFO - Evaluating batch 15 out of 53\n",
      "2020-01-17 05:45:46,120 - INFO - Evaluating batch 20 out of 53\n",
      "2020-01-17 05:45:46,124 - INFO - Evaluating batch 25 out of 53\n",
      "2020-01-17 05:45:46,128 - INFO - Evaluating batch 30 out of 53\n",
      "2020-01-17 05:45:46,132 - INFO - Evaluating batch 35 out of 53\n",
      "2020-01-17 05:45:46,137 - INFO - Evaluating batch 40 out of 53\n",
      "2020-01-17 05:45:46,141 - INFO - Evaluating batch 45 out of 53\n",
      "2020-01-17 05:45:46,149 - INFO - Evaluating batch 50 out of 53\n"
     ]
    }
   ],
   "source": [
    "val_input_tensors = nf.infer(tensors=[val_input])"
   ]
  },
  {
   "cell_type": "code",
   "execution_count": 29,
   "metadata": {},
   "outputs": [
    {
     "name": "stdout",
     "output_type": "stream",
     "text": [
      "torch.Size([64])\n"
     ]
    }
   ],
   "source": [
    "print(val_input_tensors[0][0][0].shape)"
   ]
  },
  {
   "cell_type": "code",
   "execution_count": 30,
   "metadata": {},
   "outputs": [
    {
     "name": "stdout",
     "output_type": "stream",
     "text": [
      "tensor([  101, 16691,  2008,  1996,  2472,  1997,  2107,  5365, 27858,  2015,\n",
      "         2004, 16419,  2399,  2064,  2145,  2735,  2041,  1037,  2235,  1010,\n",
      "         3167,  2143,  2007,  2019,  6832,  2813,  7361,  1012,   102,     0,\n",
      "            0,     0,     0,     0,     0,     0,     0,     0,     0,     0,\n",
      "            0,     0,     0,     0,     0,     0,     0,     0,     0,     0,\n",
      "            0,     0,     0,     0,     0,     0,     0,     0,     0,     0,\n",
      "            0,     0,     0,     0])\n"
     ]
    }
   ],
   "source": [
    "print(val_input_tensors[0][0][0])"
   ]
  },
  {
   "cell_type": "code",
   "execution_count": 31,
   "metadata": {},
   "outputs": [
    {
     "name": "stdout",
     "output_type": "stream",
     "text": [
      "Selected optimization level O1:  Insert automatic casts around Pytorch functions and Tensor methods.\n",
      "\n",
      "Defaults for this optimization level are:\n",
      "enabled                : True\n",
      "opt_level              : O1\n",
      "cast_model_type        : None\n",
      "patch_torch_functions  : True\n",
      "keep_batchnorm_fp32    : None\n",
      "master_weights         : None\n",
      "loss_scale             : dynamic\n",
      "Processing user overrides (additional kwargs that are not None)...\n",
      "After processing overrides, optimization options are:\n",
      "enabled                : True\n",
      "opt_level              : O1\n",
      "cast_model_type        : None\n",
      "patch_torch_functions  : True\n",
      "keep_batchnorm_fp32    : None\n",
      "master_weights         : None\n",
      "loss_scale             : dynamic\n"
     ]
    },
    {
     "name": "stderr",
     "output_type": "stream",
     "text": [
      "2020-01-17 05:45:47,593 - INFO - Evaluating batch 0 out of 53\n",
      "2020-01-17 05:45:48,810 - INFO - Evaluating batch 5 out of 53\n",
      "2020-01-17 05:45:49,535 - INFO - Evaluating batch 10 out of 53\n",
      "2020-01-17 05:45:50,144 - INFO - Evaluating batch 15 out of 53\n",
      "2020-01-17 05:45:50,774 - INFO - Evaluating batch 20 out of 53\n",
      "2020-01-17 05:45:51,385 - INFO - Evaluating batch 25 out of 53\n",
      "2020-01-17 05:45:51,994 - INFO - Evaluating batch 30 out of 53\n",
      "2020-01-17 05:45:52,603 - INFO - Evaluating batch 35 out of 53\n",
      "2020-01-17 05:45:53,216 - INFO - Evaluating batch 40 out of 53\n",
      "2020-01-17 05:45:53,826 - INFO - Evaluating batch 45 out of 53\n",
      "2020-01-17 05:45:54,439 - INFO - Evaluating batch 50 out of 53\n"
     ]
    },
    {
     "name": "stdout",
     "output_type": "stream",
     "text": [
      "CPU times: user 5.02 s, sys: 3.23 s, total: 8.25 s\n",
      "Wall time: 8.58 s\n"
     ]
    }
   ],
   "source": [
    "%%time\n",
    "val_embeddings_tensors = nf.infer(tensors=[val_embeddings])"
   ]
  },
  {
   "cell_type": "code",
   "execution_count": 32,
   "metadata": {},
   "outputs": [
    {
     "name": "stdout",
     "output_type": "stream",
     "text": [
      "torch.Size([64, 768])\n"
     ]
    }
   ],
   "source": [
    "# each word is embedded into bert_hidden_size space\n",
    "# max_seq_len words are embedded\n",
    "print(val_embeddings_tensors[0][0][0].shape)"
   ]
  },
  {
   "cell_type": "code",
   "execution_count": 33,
   "metadata": {},
   "outputs": [
    {
     "data": {
      "text/plain": [
       "torch.Size([256, 64, 768])"
      ]
     },
     "execution_count": 33,
     "metadata": {},
     "output_type": "execute_result"
    }
   ],
   "source": [
    "val_embeddings_tensors[0][0].shape"
   ]
  },
  {
   "cell_type": "code",
   "execution_count": 34,
   "metadata": {},
   "outputs": [
    {
     "data": {
      "text/plain": [
       "torch.Size([64, 768])"
      ]
     },
     "execution_count": 34,
     "metadata": {},
     "output_type": "execute_result"
    }
   ],
   "source": [
    "val_embeddings_tensors[0][0][0][:].shape"
   ]
  },
  {
   "cell_type": "code",
   "execution_count": 35,
   "metadata": {},
   "outputs": [
    {
     "name": "stdout",
     "output_type": "stream",
     "text": [
      "tensor([-0.0411,  0.3524, -0.0902,  0.4333,  0.1844, -0.1057,  0.1166,  1.0779,\n",
      "         1.6076,  0.7321, -0.0281,  0.3880, -0.1483,  0.2836,  0.1240,  0.3311,\n",
      "        -0.0743,  0.9674,  0.6252,  1.8747,  0.2040, -0.8777,  1.2994,  0.1390,\n",
      "         0.1290,  0.8688,  0.6109,  0.6801,  0.8891,  0.3688,  0.5610,  0.3336,\n",
      "         0.6595,  0.5202,  0.2784,  0.2691,  0.2921,  0.5695,  0.6469,  0.6729,\n",
      "         0.3354, -0.0220, -0.0829,  0.2345,  0.0615,  0.3287,  0.3376,  0.3226,\n",
      "         0.0716, -0.1945,  0.4177, -0.0321,  0.1759,  0.5043,  0.0893,  0.5966,\n",
      "         0.7837,  0.8568,  0.3591,  0.2225,  0.2630,  0.1896,  0.2109,  0.4541])\n"
     ]
    }
   ],
   "source": [
    "print(val_embeddings_tensors[0][0][1][:, 0])"
   ]
  },
  {
   "cell_type": "markdown",
   "metadata": {},
   "source": [
    "## Understanding and Visualizing BERT Embeddings\n",
    "\n",
    "We are going to look at the BERT embeddings for the words (1-word sentences) in \"data/SST-2/positive_negative.tsv\". Since the BERT embeddings are 768 dimensional for BERT base and 1024 dimensional for BERT large, we'll first apply TSNE and reduce the embeddings to two dimensions."
   ]
  },
  {
   "cell_type": "code",
   "execution_count": 36,
   "metadata": {},
   "outputs": [
    {
     "name": "stdout",
     "output_type": "stream",
     "text": [
      "['abysmal' 'apalling' 'dreadful' 'awful' 'terrible' 'very bad'\n",
      " 'really bad' 'rubbish' 'unsatisfactory' 'bad' 'poor' 'great'\n",
      " 'really good' 'very good' 'awesome' 'fantastic' 'superb' 'brilliant'\n",
      " 'incredible' 'excellent' 'outstanding' 'perfect']\n"
     ]
    }
   ],
   "source": [
    "spectrum_df = pd.read_csv(data_dir + '/positive_negative.tsv', delimiter='\\t')\n",
    "print(spectrum_df.sentence.values)"
   ]
  },
  {
   "cell_type": "code",
   "execution_count": 37,
   "metadata": {},
   "outputs": [
    {
     "name": "stderr",
     "output_type": "stream",
     "text": [
      "2020-01-17 05:45:54,916 - INFO - data/SST-2/positive_negative.tsv: 22\n",
      "2020-01-17 05:45:54,920 - INFO - Min: 3 |                  Max: 6 |                  Mean: 3.5 |                  Median: 3.0\n",
      "2020-01-17 05:45:54,921 - INFO - 75 percentile: 4.0\n",
      "2020-01-17 05:45:54,923 - INFO - 99 percentile: 5.789999999999999\n",
      "2020-01-17 05:45:54,924 - INFO - 0 out of 22                        sentencess with more than 64 subtokens.\n",
      "2020-01-17 05:45:54,925 - INFO - *** Example ***\n",
      "2020-01-17 05:45:54,925 - INFO - example_index: 0\n",
      "2020-01-17 05:45:54,927 - INFO - subtokens: [CLS] ab ##ys ##mal [SEP]\n",
      "2020-01-17 05:45:54,928 - INFO - sent_label: 0\n",
      "2020-01-17 05:45:54,929 - INFO - input_ids: 101 11113 7274 9067 102 0 0 0 0 0 0 0 0 0 0 0 0 0 0 0 0 0 0 0 0 0 0 0 0 0 0 0 0 0 0 0 0 0 0 0 0 0 0 0 0 0 0 0 0 0 0 0 0 0 0 0 0 0 0 0 0 0 0 0\n",
      "2020-01-17 05:45:54,930 - INFO - input_mask: 1 1 1 1 1 0 0 0 0 0 0 0 0 0 0 0 0 0 0 0 0 0 0 0 0 0 0 0 0 0 0 0 0 0 0 0 0 0 0 0 0 0 0 0 0 0 0 0 0 0 0 0 0 0 0 0 0 0 0 0 0 0 0 0\n"
     ]
    }
   ],
   "source": [
    "# positive negative spectrum\n",
    "spectrum_data = nemo_nlp.BertSentenceClassificationDataLayer(\n",
    "    input_file=data_dir + '/positive_negative.tsv',\n",
    "    tokenizer=tokenizer,\n",
    "    max_seq_length=max_seq_length,\n",
    "    shuffle=False,\n",
    "    num_samples=-1, # lower for dev, -1 for all dataset\n",
    "    batch_size=batch_size,\n",
    "    dataset_type=preproc_data_layer.BertSentenceClassificationDataset\n",
    ")"
   ]
  },
  {
   "cell_type": "code",
   "execution_count": 38,
   "metadata": {},
   "outputs": [],
   "source": [
    "spectrum_input, spectrum_token_types, spectrum_attn_mask, spectrum_labels = spectrum_data()"
   ]
  },
  {
   "cell_type": "code",
   "execution_count": 39,
   "metadata": {},
   "outputs": [],
   "source": [
    "spectrum_embeddings = bert(input_ids=spectrum_input,\n",
    "                        token_type_ids=spectrum_token_types,\n",
    "                        attention_mask=spectrum_attn_mask)"
   ]
  },
  {
   "cell_type": "code",
   "execution_count": 40,
   "metadata": {},
   "outputs": [
    {
     "name": "stdout",
     "output_type": "stream",
     "text": [
      "Selected optimization level O1:  Insert automatic casts around Pytorch functions and Tensor methods.\n",
      "\n",
      "Defaults for this optimization level are:\n",
      "enabled                : True\n",
      "opt_level              : O1\n",
      "cast_model_type        : None\n",
      "patch_torch_functions  : True\n",
      "keep_batchnorm_fp32    : None\n",
      "master_weights         : None\n",
      "loss_scale             : dynamic\n",
      "Processing user overrides (additional kwargs that are not None)...\n",
      "After processing overrides, optimization options are:\n",
      "enabled                : True\n",
      "opt_level              : O1\n",
      "cast_model_type        : None\n",
      "patch_torch_functions  : True\n",
      "keep_batchnorm_fp32    : None\n",
      "master_weights         : None\n",
      "loss_scale             : dynamic\n"
     ]
    },
    {
     "name": "stderr",
     "output_type": "stream",
     "text": [
      "2020-01-17 05:45:57,213 - INFO - Evaluating batch 0 out of 1\n"
     ]
    }
   ],
   "source": [
    "spectrum_embeddings_tensors = nf.infer(tensors=[spectrum_embeddings])"
   ]
  },
  {
   "cell_type": "code",
   "execution_count": 41,
   "metadata": {},
   "outputs": [
    {
     "data": {
      "text/plain": [
       "torch.Size([22, 64, 768])"
      ]
     },
     "execution_count": 41,
     "metadata": {},
     "output_type": "execute_result"
    }
   ],
   "source": [
    "spectrum_embeddings_tensors[0][0].shape"
   ]
  },
  {
   "cell_type": "code",
   "execution_count": 42,
   "metadata": {},
   "outputs": [
    {
     "data": {
      "text/plain": [
       "torch.Size([22, 768])"
      ]
     },
     "execution_count": 42,
     "metadata": {},
     "output_type": "execute_result"
    }
   ],
   "source": [
    "spectrum_embeddings_tensors[0][0][:,0,:].shape"
   ]
  },
  {
   "cell_type": "code",
   "execution_count": 43,
   "metadata": {},
   "outputs": [
    {
     "data": {
      "text/plain": [
       "<matplotlib.image.AxesImage at 0x7f1deb11de10>"
      ]
     },
     "execution_count": 43,
     "metadata": {},
     "output_type": "execute_result"
    },
    {
     "data": {
      "image/png": "[encoded data removed]",
      "text/plain": [
       "<Figure size 7200x7200 with 1 Axes>"
      ]
     },
     "metadata": {
      "needs_background": "light"
     },
     "output_type": "display_data"
    }
   ],
   "source": [
    "plt.figure(figsize=(100,100))\n",
    "plt.imshow(spectrum_embeddings_tensors[0][0][:,0,:].numpy())"
   ]
  },
  {
   "cell_type": "code",
   "execution_count": 44,
   "metadata": {},
   "outputs": [
    {
     "name": "stdout",
     "output_type": "stream",
     "text": [
      "[t-SNE] Computing 21 nearest neighbors...\n",
      "[t-SNE] Indexed 22 samples in 0.001s...\n",
      "[t-SNE] Computed neighbors for 22 samples in 0.002s...\n",
      "[t-SNE] Computed conditional probabilities for sample 22 / 22\n",
      "[t-SNE] Mean sigma: 1.952878\n",
      "[t-SNE] KL divergence after 100 iterations with early exaggeration: 36.743279\n",
      "[t-SNE] KL divergence after 1000 iterations: 0.099344\n"
     ]
    },
    {
     "data": {
      "image/png": "[encoded data removed]",
      "text/plain": [
       "<Figure size 720x720 with 1 Axes>"
      ]
     },
     "metadata": {
      "needs_background": "light"
     },
     "output_type": "display_data"
    }
   ],
   "source": [
    "\n",
    "spectrum_activations = spectrum_embeddings_tensors[0][0][:,0,:].numpy()\n",
    "tsne_spectrum = TSNE(n_components=2, perplexity=10, verbose=1, learning_rate=2,\n",
    "                     random_state=123).fit_transform(spectrum_activations)\n",
    "\n",
    "fig = plt.figure(figsize=(10,10))\n",
    "plt.plot(tsne_spectrum[0:11, 0], tsne_spectrum[0:11, 1], 'rx')\n",
    "plt.plot(tsne_spectrum[11:, 0], tsne_spectrum[11:, 1], 'bo')\n",
    "for (x,y, label) in zip(tsne_spectrum[0:, 0], tsne_spectrum[0:, 1], spectrum_df.sentence.values.tolist() ):\n",
    "    plt.annotate(label, # this is the text\n",
    "                 (x,y), # this is the point to label\n",
    "                 textcoords=\"offset points\", # how to position the text\n",
    "                 xytext=(0,10), # distance from text to points (x,y)\n",
    "                 ha='center') # horizontal alignment can be left, right or center"
   ]
  },
  {
   "cell_type": "markdown",
   "metadata": {},
   "source": [
    "## Training Pipeline \n",
    "\n",
    "In order to optimize our network, we need to pass the embeddings through the MLP network and then compute the loss."
   ]
  },
  {
   "cell_type": "code",
   "execution_count": 45,
   "metadata": {},
   "outputs": [],
   "source": [
    "train_logits = mlp(hidden_states=train_embeddings)\n",
    "val_logits = mlp(hidden_states=val_embeddings)\n",
    "\n",
    "train_loss = loss(logits=train_logits, labels=train_labels)\n",
    "val_loss = loss(logits=val_logits, labels=val_labels)"
   ]
  },
  {
   "cell_type": "markdown",
   "metadata": {},
   "source": [
    "## Callbacks\n",
    "\n",
    "Callbacks are used to record and log metrics and save checkpoints for the training and evaluation. We use callbacks to print to screen and also to tensorboard.\n",
    "\n",
    "\n"
   ]
  },
  {
   "cell_type": "code",
   "execution_count": 46,
   "metadata": {},
   "outputs": [],
   "source": [
    "num_epochs = 3\n",
    "\n",
    "num_gpus = 1\n",
    "\n",
    "train_data_size = len(train_data)\n",
    "\n",
    "steps_per_epoch = math.ceil(train_data_size / (batch_size * num_gpus))\n",
    "\n",
    "train_callback = nemo.core.SimpleLossLoggerCallback(\n",
    "    tensors=[train_loss, train_logits],\n",
    "    print_func=lambda x: nf.logger.info(f'Train loss: {str(np.round(x[0].item(), 3))}'),\n",
    "    tb_writer=nf.tb_writer,\n",
    "    get_tb_values=lambda x: [[\"train_loss\", x[0]]],\n",
    "    step_freq=1)\n",
    "\n",
    "eval_callback = nemo.core.EvaluatorCallback(\n",
    "    eval_tensors=[val_logits, val_labels],\n",
    "    user_iter_callback=lambda x, y: eval_iter_callback(\n",
    "        x, y, val_data),\n",
    "    user_epochs_done_callback=lambda x: eval_epochs_done_callback(\n",
    "        x, f'{nf.work_dir}/graphs'),\n",
    "    tb_writer=nf.tb_writer,\n",
    "    eval_epoch=1,\n",
    "    eval_step=steps_per_epoch)\n",
    "\n",
    "# Create callback to save checkpoints\n",
    "ckpt_callback = nemo.core.CheckpointCallback(\n",
    "    folder=nf.checkpoint_dir,\n",
    "    epoch_freq=1,\n",
    "    step_freq=-1,\n",
    "    checkpoints_to_keep=num_epochs)"
   ]
  },
  {
   "cell_type": "code",
   "execution_count": 47,
   "metadata": {},
   "outputs": [],
   "source": [
    "lr_policy_fn = get_lr_policy('WarmupAnnealing',\n",
    "                             total_steps=num_epochs * steps_per_epoch,\n",
    "                             warmup_ratio=0.1)"
   ]
  },
  {
   "cell_type": "code",
   "execution_count": 48,
   "metadata": {},
   "outputs": [
    {
     "name": "stderr",
     "output_type": "stream",
     "text": [
      "2020-01-17 05:46:19,991 - WARNING - Data Layer does not have any weights to return. This get_weights call returns None.\n",
      "2020-01-17 05:46:20,005 - INFO - Starting .....\n",
      "2020-01-17 05:46:20,010 - INFO - Found 2 modules with weights:\n",
      "2020-01-17 05:46:20,011 - INFO - BERT\n",
      "2020-01-17 05:46:20,012 - INFO - SequenceClassifier\n",
      "2020-01-17 05:46:20,015 - INFO - Total model parameters: 110074370\n",
      "2020-01-17 05:46:20,016 - INFO - Restoring checkpoint from folder checkpoints_bert-base-uncased ...\n"
     ]
    },
    {
     "name": "stdout",
     "output_type": "stream",
     "text": [
      "Selected optimization level O1:  Insert automatic casts around Pytorch functions and Tensor methods.\n",
      "\n",
      "Defaults for this optimization level are:\n",
      "enabled                : True\n",
      "opt_level              : O1\n",
      "cast_model_type        : None\n",
      "patch_torch_functions  : True\n",
      "keep_batchnorm_fp32    : None\n",
      "master_weights         : None\n",
      "loss_scale             : dynamic\n",
      "Processing user overrides (additional kwargs that are not None)...\n",
      "After processing overrides, optimization options are:\n",
      "enabled                : True\n",
      "opt_level              : O1\n",
      "cast_model_type        : None\n",
      "patch_torch_functions  : True\n",
      "keep_batchnorm_fp32    : None\n",
      "master_weights         : None\n",
      "loss_scale             : dynamic\n"
     ]
    },
    {
     "name": "stderr",
     "output_type": "stream",
     "text": [
      "2020-01-17 05:46:21,319 - INFO - Done in 1.3121953010559082\n",
      "2020-01-17 05:46:21,320 - INFO - Final Evaluation ..............................\n",
      "2020-01-17 05:46:31,989 - INFO - Accuracy: 0.9524977698483497\n",
      "2020-01-17 05:46:31,991 - INFO - Sampled preds: [1 1 1 0 0 0 1 0 0 0 0 0 1 0 1 0 1 0 1 0]\n",
      "2020-01-17 05:46:31,992 - INFO - Sampled labels: [1 1 1 0 0 0 1 0 0 0 0 0 1 0 1 0 1 0 1 0]\n",
      "2020-01-17 05:46:32,218 - INFO -               precision    recall  f1-score   support\n",
      "\n",
      "           0       0.95      0.94      0.95      5950\n",
      "           1       0.95      0.96      0.96      7502\n",
      "\n",
      "    accuracy                           0.95     13452\n",
      "   macro avg       0.95      0.95      0.95     13452\n",
      "weighted avg       0.95      0.95      0.95     13452\n",
      "\n",
      "2020-01-17 05:46:32,220 - INFO - Evaluation time: 10.898316621780396 seconds\n",
      "2020-01-17 05:46:36,614 - INFO - Saved checkpoint: checkpoints_bert-base-uncased/trainer-EPOCH-3.pt\n"
     ]
    },
    {
     "name": "stdout",
     "output_type": "stream",
     "text": [
      "CPU times: user 7.74 s, sys: 6.52 s, total: 14.3 s\n",
      "Wall time: 16.6 s\n"
     ]
    },
    {
     "data": {
      "image/png": "[encoded data removed]",
      "text/plain": [
       "<Figure size 432x288 with 2 Axes>"
      ]
     },
     "metadata": {
      "needs_background": "light"
     },
     "output_type": "display_data"
    }
   ],
   "source": [
    "%%time\n",
    "nf.train(tensors_to_optimize=[train_loss],\n",
    "         callbacks=[train_callback, eval_callback, ckpt_callback],\n",
    "         lr_policy=lr_policy_fn,\n",
    "         optimizer='adam',\n",
    "         optimization_params={'num_epochs': num_epochs, 'lr': 5e-5})"
   ]
  },
  {
   "cell_type": "code",
   "execution_count": 49,
   "metadata": {},
   "outputs": [
    {
     "name": "stdout",
     "output_type": "stream",
     "text": [
      "tensorboard_bert-base-uncased\n"
     ]
    }
   ],
   "source": [
    "print(tensorboard_dir)"
   ]
  },
  {
   "cell_type": "code",
   "execution_count": 51,
   "metadata": {},
   "outputs": [],
   "source": [
    "# # command for distributed training\n",
    "# time python -m torch.distributed.launch --nproc_per_node=2 sentence_classification.py \\\n",
    "# --train_file $f'{data_dir}/preproc/train-sst-2_{pretrained_bert_model}_{max_seq_length}.hdf5' \\\n",
    "# --eval_file $f'{data_dir}/preproc/train-sst-2_{pretrained_bert_model}_{max_seq_length}.hdf5' \\\n",
    "# --num_gpus 2 \\\n",
    "# --batch_size $batch_size \\\n",
    "# --amp_opt_level O1 \\\n",
    "# --work_dir $f'distributed_logs_{pretrained_bert_model}' \\\n",
    "# --mode train \\\n",
    "# --num_classes 2 \\\n",
    "# --num_samples -1 \\\n",
    "# --num_epochs 1 \\\n",
    "# --preproc"
   ]
  }
 ],
 "metadata": {
  "kernelspec": {
   "display_name": "Python 3",
   "language": "python",
   "name": "python3"
  },
  "language_info": {
   "codemirror_mode": {
    "name": "ipython",
    "version": 3
   },
   "file_extension": ".py",
   "mimetype": "text/x-python",
   "name": "python",
   "nbconvert_exporter": "python",
   "pygments_lexer": "ipython3",
   "version": "3.6.9"
  }
 },
 "nbformat": 4,
 "nbformat_minor": 4
}
